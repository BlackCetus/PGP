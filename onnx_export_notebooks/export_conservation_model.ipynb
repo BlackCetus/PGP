{
 "cells": [
  {
   "metadata": {},
   "cell_type": "markdown",
   "source": "# Export Conservation Model",
   "id": "c463996ac8755531"
  },
  {
   "metadata": {
    "ExecuteTime": {
     "end_time": "2025-03-25T08:38:01.745717Z",
     "start_time": "2025-03-25T08:37:59.594829Z"
    }
   },
   "cell_type": "code",
   "source": [
    "import torch\n",
    "from pathlib import Path\n",
    "\n",
    "\n",
    "root_dir = Path.cwd().parent\n",
    "model_dir = root_dir / \"checkpoints\"\n"
   ],
   "id": "1a408695012511eb",
   "outputs": [],
   "execution_count": 2
  },
  {
   "metadata": {
    "ExecuteTime": {
     "end_time": "2025-03-19T14:52:20.523711Z",
     "start_time": "2025-03-19T14:52:20.511839Z"
    }
   },
   "cell_type": "code",
   "source": [
    "import os\n",
    "\n",
    "def export_ConservationModel_to_onnx(conservation_model, onnx_file_path=f'{root_dir}/checkpoints/conservation_onnx'):\n",
    "    if not os.path.exists(onnx_file_path):\n",
    "        os.mkdir(onnx_file_path)\n",
    "\n",
    "    B = 1  # Batch size\n",
    "    L = 10  # Protein length\n",
    "    F = 1024  # Number of features\n",
    "    x = torch.randn(B, L, F)\n",
    "\n",
    "    # Export the model\n",
    "    torch.onnx.export(\n",
    "        conservation_model,                               # model being run\n",
    "        x,                           # model input (or a tuple for multiple inputs)\n",
    "        f\"{onnx_file_path}/conservation.onnx\",             # where to save the model\n",
    "        export_params=True,                  # store the trained parameter weights inside the model file\n",
    "        opset_version=12,                    # the ONNX version to export the model to\n",
    "        do_constant_folding=True,            # whether to execute constant folding for optimization\n",
    "        input_names=['input'],       # the model's input names\n",
    "        output_names=['output'],             # the model's output names\n",
    "        dynamic_axes={'input': {0: 'batch_size', 1: 'protein_length', 2: 'embedding_dimension'},\n",
    "                      'output': {0: 'batch_size', 1: 'protein_length'}},\n",
    "    )\n",
    "    print(f\"Model has been successfully exported to {onnx_file_path}\")"
   ],
   "id": "dee4bf0152bf4e15",
   "outputs": [],
   "execution_count": 2
  },
  {
   "metadata": {
    "ExecuteTime": {
     "end_time": "2025-03-19T14:52:22.290852Z",
     "start_time": "2025-03-19T14:52:20.993773Z"
    }
   },
   "cell_type": "code",
   "source": [
    "from prott5_batch_predictor import ConservationPredictor\n",
    "\n",
    "conservation_model = ConservationPredictor(model_dir=model_dir, use_onnx=False)\n",
    "export_ConservationModel_to_onnx(conservation_model=conservation_model.model)"
   ],
   "id": "b6131fc6e1d90500",
   "outputs": [
    {
     "name": "stdout",
     "output_type": "stream",
     "text": [
      "Model has been successfully exported to /Users/pschloetermann/IdeaProjects/Biocentral_ohne_original/pgp/checkpoints/conservation_onnx\n"
     ]
    }
   ],
   "execution_count": 3
  },
  {
   "metadata": {},
   "cell_type": "markdown",
   "source": "# Test Conservation onnx model output",
   "id": "5e8fd33d69853598"
  },
  {
   "metadata": {
    "ExecuteTime": {
     "end_time": "2025-03-25T08:38:01.764592Z",
     "start_time": "2025-03-25T08:38:01.755619Z"
    }
   },
   "cell_type": "code",
   "source": [
    "output_dir_org = f'{root_dir}/output_conservation_original'\n",
    "output_dir_onnx = f'{root_dir}/output_conservation_onnx'\n",
    "with open (f'{output_dir_onnx}/ids.txt', 'r') as f:\n",
    "    ids_onnx = f.read()\n",
    "\n",
    "with open (f'{output_dir_onnx}/conservation_pred.txt', 'r') as f:\n",
    "    conservation_pred_onnx = f.read()\n",
    "\n",
    "with open (f'{output_dir_org}/ids.txt', 'r') as f:\n",
    "    ids_org = f.read()\n",
    "\n",
    "with open (f'{output_dir_org}/conservation_pred.txt', 'r') as f:\n",
    "    conservation_pred_org = f.read()\n",
    "\n",
    "assert ids_onnx == ids_org, \"IDs of onnx conservation model and original conservation model output are NOT identical!\"\n",
    "assert conservation_pred_onnx == conservation_pred_org, \"Membrane output of onnx conservation model and original conservation model are NOT identical!\""
   ],
   "id": "890d96441deda14b",
   "outputs": [],
   "execution_count": 3
  },
  {
   "metadata": {},
   "cell_type": "code",
   "outputs": [],
   "execution_count": null,
   "source": "",
   "id": "2905ce2f4152ddd3"
  }
 ],
 "metadata": {
  "kernelspec": {
   "display_name": "Python 3",
   "language": "python",
   "name": "python3"
  },
  "language_info": {
   "codemirror_mode": {
    "name": "ipython",
    "version": 2
   },
   "file_extension": ".py",
   "mimetype": "text/x-python",
   "name": "python",
   "nbconvert_exporter": "python",
   "pygments_lexer": "ipython2",
   "version": "2.7.6"
  }
 },
 "nbformat": 4,
 "nbformat_minor": 5
}
