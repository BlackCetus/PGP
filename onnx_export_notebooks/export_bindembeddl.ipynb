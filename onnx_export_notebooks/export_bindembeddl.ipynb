{
 "cells": [
  {
   "metadata": {},
   "cell_type": "markdown",
   "source": "# Export BindEmbed21DL to onnx",
   "id": "39b0449aef81e423"
  },
  {
   "cell_type": "code",
   "id": "initial_id",
   "metadata": {
    "collapsed": true,
    "ExecuteTime": {
     "end_time": "2025-03-24T10:23:41.252777Z",
     "start_time": "2025-03-24T10:23:40.520508Z"
    }
   },
   "source": [
    "import os\n",
    "import torch\n",
    "from pathlib import Path\n",
    "\n",
    "root_dir = Path.cwd().parent\n",
    "model_dir = root_dir / \"checkpoints\"\n",
    "\n",
    "\n",
    "def export_bindembeddl_to_onnx(bind_model, onnx_file_path=f'{root_dir}/checkpoints/bindpredict_onnx'):\n",
    "    if not os.path.exists(onnx_file_path):\n",
    "        os.mkdir(onnx_file_path)\n",
    "    for index, single_bind_model in enumerate(bind_model):\n",
    "        single_bind_model.eval()\n",
    "\n",
    "        # Define the dummy input tensor `x` and mask tensor `mask`\n",
    "        B = 2  # batch size\n",
    "        N = 5  # sequence length\n",
    "        C = 1024  # number of input channels/features\n",
    "\n",
    "        x = torch.randn(B, N, C)\n",
    "        x_transposed = torch.permute(x, (0,2,1))\n",
    "\n",
    "        specific_onnx_file_path = f'{onnx_file_path}/cv_{index}.onnx'\n",
    "        # Export the model\n",
    "        torch.onnx.export(\n",
    "            single_bind_model,                               # model being run\n",
    "            x_transposed,                           # model input (or a tuple for multiple inputs)\n",
    "            specific_onnx_file_path,             # where to save the model\n",
    "            export_params=True,                  # store the trained parameter weights inside the model file\n",
    "            opset_version=12,                    # the ONNX version to export the model to\n",
    "            do_constant_folding=True,            # whether to execute constant folding for optimization\n",
    "            input_names=['input', 'mask'],       # the model's input names\n",
    "            output_names=['output'],             # the model's output names\n",
    "            dynamic_axes={'input': {0: 'batch_size', 1: 'sequence_length', 2: 'embedding_dim'},\n",
    "                          'mask': {0: 'batch_size', 1: 'sequence_length'},# variable length axes\n",
    "                          'output': {0: 'batch_size'}}\n",
    "        )\n",
    "        print(f\"Model has been successfully exported to {specific_onnx_file_path}\")"
   ],
   "outputs": [],
   "execution_count": 1
  },
  {
   "metadata": {
    "ExecuteTime": {
     "end_time": "2025-03-24T10:23:42.200019Z",
     "start_time": "2025-03-24T10:23:41.262074Z"
    }
   },
   "cell_type": "code",
   "source": [
    "from prott5_batch_predictor import BindPredict\n",
    "bind_model = BindPredict(model_dir=model_dir).model\n",
    "export_bindembeddl_to_onnx(bind_model=bind_model)"
   ],
   "id": "2ff059acc4ac26ac",
   "outputs": [
    {
     "name": "stdout",
     "output_type": "stream",
     "text": [
      "Model has been successfully exported to /Users/pschloetermann/IdeaProjects/Biocentral_ohne_original/pgp/checkpoints/bindembeddl_onnx/cv_0.onnx\n",
      "Model has been successfully exported to /Users/pschloetermann/IdeaProjects/Biocentral_ohne_original/pgp/checkpoints/bindembeddl_onnx/cv_1.onnx\n",
      "Model has been successfully exported to /Users/pschloetermann/IdeaProjects/Biocentral_ohne_original/pgp/checkpoints/bindembeddl_onnx/cv_2.onnx\n",
      "Model has been successfully exported to /Users/pschloetermann/IdeaProjects/Biocentral_ohne_original/pgp/checkpoints/bindembeddl_onnx/cv_3.onnx\n",
      "Model has been successfully exported to /Users/pschloetermann/IdeaProjects/Biocentral_ohne_original/pgp/checkpoints/bindembeddl_onnx/cv_4.onnx\n"
     ]
    }
   ],
   "execution_count": 2
  },
  {
   "metadata": {
    "ExecuteTime": {
     "end_time": "2025-03-24T10:55:47.469222Z",
     "start_time": "2025-03-24T10:55:47.455980Z"
    }
   },
   "cell_type": "code",
   "source": [
    "from pathlib import Path\n",
    "\n",
    "\n",
    "root_dir = Path.cwd().parent\n",
    "output_dir_org = f'{root_dir}/output_bind_org'\n",
    "output_dir_onnx = f'{root_dir}/output_bind_onnx'\n",
    "\n",
    "with open (f'{output_dir_org}/binding_bindEmbed_metal_pred.txt', 'r') as f:\n",
    "    metal_org = f.read()\n",
    "with open (f'{output_dir_org}/binding_bindEmbed_nucleic_pred.txt', 'r') as f:\n",
    "    nucleic_org = f.read()\n",
    "with open (f'{output_dir_org}/binding_bindEmbed_small_pred.txt', 'r') as f:\n",
    "    small_org = f.read()\n",
    "\n",
    "with open (f'{output_dir_onnx}/binding_bindEmbed_metal_pred.txt', 'r') as f:\n",
    "    metal_onnx = f.read()\n",
    "with open (f'{output_dir_onnx}/binding_bindEmbed_nucleic_pred.txt', 'r') as f:\n",
    "    nucleic_onnx = f.read()\n",
    "with open (f'{output_dir_onnx}/binding_bindEmbed_small_pred.txt', 'r') as f:\n",
    "    small_onnx = f.read()\n",
    "\n",
    "with open (f'{output_dir_org}/ids.txt', 'r') as f:\n",
    "    ids_org = f.read()\n",
    "\n",
    "with open (f'{output_dir_onnx}/ids.txt', 'r') as f:\n",
    "    ids_onnx = f.read()\n",
    "\n",
    "if ids_onnx == ids_org:\n",
    "    print(\"IDs of nnx conservation model and original conservation model output identical!\")\n",
    "if metal_org == metal_onnx:\n",
    "    print(\"Metal predictions are identical\")\n",
    "else:\n",
    "    print(\"Metal predictions are NOT identical\")\n",
    "if nucleic_org == nucleic_onnx:\n",
    "    print(\"Nucleic predictions are identical\")\n",
    "else:\n",
    "    print(\"Nucleic predictions are NOT identical\")\n",
    "if small_org == small_onnx:\n",
    "    print(\"Small predictions are identical\")\n",
    "else:\n",
    "    print(\"Small predictions are NOT identical\")"
   ],
   "id": "cb96bb0bb7264489",
   "outputs": [
    {
     "name": "stdout",
     "output_type": "stream",
     "text": [
      "IDs of nnx conservation model and original conservation model output identical!\n",
      "Metal predictions are identical\n",
      "Nucleic predictions are identical\n",
      "Small predictions are identical\n"
     ]
    }
   ],
   "execution_count": 6
  }
 ],
 "metadata": {
  "kernelspec": {
   "display_name": "Python 3",
   "language": "python",
   "name": "python3"
  },
  "language_info": {
   "codemirror_mode": {
    "name": "ipython",
    "version": 2
   },
   "file_extension": ".py",
   "mimetype": "text/x-python",
   "name": "python",
   "nbconvert_exporter": "python",
   "pygments_lexer": "ipython2",
   "version": "2.7.6"
  }
 },
 "nbformat": 4,
 "nbformat_minor": 5
}
