{
 "cells": [
  {
   "cell_type": "code",
   "id": "initial_id",
   "metadata": {
    "collapsed": true,
    "ExecuteTime": {
     "end_time": "2025-03-19T16:25:02.500244Z",
     "start_time": "2025-03-19T16:25:00.879273Z"
    }
   },
   "source": [
    "import torch\n",
    "from pathlib import Path\n",
    "\n",
    "\n",
    "from prott5_batch_predictor import SecStructPredictor\n",
    "\n",
    "\n",
    "root_dir = Path.cwd().parent\n",
    "model_dir = root_dir / \"checkpoints\"\n",
    "\n",
    "sec_struct_model = SecStructPredictor(model_dir=model_dir).load_model(model_dir=model_dir)"
   ],
   "outputs": [],
   "execution_count": 1
  },
  {
   "metadata": {
    "ExecuteTime": {
     "end_time": "2025-03-18T10:29:29.838843Z",
     "start_time": "2025-03-18T10:29:29.831535Z"
    }
   },
   "cell_type": "code",
   "source": [
    "import os\n",
    "\n",
    "def export_sec_struct_to_onnx(sec_struct_model, onnx_file_path=f'{root_dir}/checkpoints/sec_struct_onnx'):\n",
    "    if not os.path.exists(onnx_file_path):\n",
    "        os.mkdir(onnx_file_path)\n",
    "\n",
    "    # Define the dummy input tensor `x` and mask tensor `mask`\n",
    "    B = 2  # batch size\n",
    "    N = 505  # sequence length\n",
    "    C = 1024  # number of input channels/features\n",
    "\n",
    "    x = torch.randn(B, N, C)\n",
    "\n",
    "    specific_onnx_file_path = f'{onnx_file_path}/secstruct.onnx'\n",
    "    # Export the model\n",
    "    torch.onnx.export(\n",
    "        sec_struct_model,                               # model being run\n",
    "        x,                           # model input (or a tuple for multiple inputs)\n",
    "        specific_onnx_file_path,             # where to save the model\n",
    "        export_params=True,                  # store the trained parameter weights inside the model file\n",
    "        opset_version=12,                    # the ONNX version to export the model to\n",
    "        do_constant_folding=True,            # whether to execute constant folding for optimization\n",
    "        input_names=['input', 'mask'],       # the model's input names\n",
    "        output_names=['d3_Yhat', 'd8_Yhat'],             # the model's output names\n",
    "        dynamic_axes={'input': {0: 'batch_size', 1: 'sequence_length', 2: 'embedding_dimension'},\n",
    "                      'd3_Yhat': {0: 'batch_size'}, 'd8_Yhat': {0: 'batch_size'}}\n",
    "    )\n",
    "    print(f\"Model has been successfully exported to {specific_onnx_file_path}\")"
   ],
   "id": "72973e57bf116029",
   "outputs": [],
   "execution_count": 8
  },
  {
   "metadata": {
    "ExecuteTime": {
     "end_time": "2025-03-18T10:29:30.601774Z",
     "start_time": "2025-03-18T10:29:30.417581Z"
    }
   },
   "cell_type": "code",
   "source": "export_sec_struct_to_onnx(sec_struct_model=sec_struct_model)",
   "id": "295f62864e805da5",
   "outputs": [
    {
     "name": "stdout",
     "output_type": "stream",
     "text": [
      "Model has been successfully exported to /Users/pschloetermann/IdeaProjects/Biocentral_ohne_original/pgp/checkpoints/sec_struct_onnx/secstruct.onnx\n"
     ]
    }
   ],
   "execution_count": 9
  },
  {
   "metadata": {},
   "cell_type": "markdown",
   "source": "# Compare results",
   "id": "8025e887361bf1a8"
  },
  {
   "metadata": {
    "ExecuteTime": {
     "end_time": "2025-03-25T08:45:10.507924Z",
     "start_time": "2025-03-25T08:45:10.496060Z"
    }
   },
   "cell_type": "code",
   "source": [
    "from pathlib import Path\n",
    "\n",
    "\n",
    "root_dir = Path.cwd().parent\n",
    "output_dir_org = f'{root_dir}/output_sequence_org'\n",
    "output_dir_onnx = f'{root_dir}/output_sequence_onnx'\n",
    "\n",
    "with open (f'{output_dir_onnx}/dssp3_pred.txt', 'r') as f:\n",
    "    sequence_pred3_onnx = f.read()\n",
    "\n",
    "with open (f'{output_dir_onnx}/dssp8_pred.txt', 'r') as f:\n",
    "    sequence_pred8_onnx = f.read()\n",
    "\n",
    "with open (f'{output_dir_org}/dssp3_pred.txt', 'r') as f:\n",
    "    sequence_pred3_org = f.read()\n",
    "\n",
    "with open (f'{output_dir_org}/dssp8_pred.txt', 'r') as f:\n",
    "    sequence_pred8_org = f.read()\n",
    "\n",
    "with open (f'{output_dir_org}/ids.txt', 'r') as f:\n",
    "    ids_org = f.read()\n",
    "\n",
    "with open (f'{output_dir_onnx}/ids.txt', 'r') as f:\n",
    "    ids_onnx = f.read()\n",
    "\n",
    "assert sequence_pred3_onnx == sequence_pred3_org, \"DSSP3 predictions are NOT identical\"\n",
    "assert sequence_pred8_onnx == sequence_pred8_org, \"DSSP8 predictions are NOT identical\""
   ],
   "id": "685089bfa54708c7",
   "outputs": [],
   "execution_count": 3
  },
  {
   "metadata": {},
   "cell_type": "code",
   "outputs": [],
   "execution_count": null,
   "source": "",
   "id": "70b1fcf86b18a47f"
  }
 ],
 "metadata": {
  "kernelspec": {
   "display_name": "Python 3",
   "language": "python",
   "name": "python3"
  },
  "language_info": {
   "codemirror_mode": {
    "name": "ipython",
    "version": 2
   },
   "file_extension": ".py",
   "mimetype": "text/x-python",
   "name": "python",
   "nbconvert_exporter": "python",
   "pygments_lexer": "ipython2",
   "version": "2.7.6"
  }
 },
 "nbformat": 4,
 "nbformat_minor": 5
}
