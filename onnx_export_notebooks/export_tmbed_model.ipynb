{
 "cells": [
  {
   "metadata": {},
   "cell_type": "markdown",
   "source": [
    "# TMbed Model\n",
    "Exporting the TMbed Model to ONNX\n",
    "\n",
    "Previous issue: The Pytorch function \"unfold\" in Predictor.forward is not supported by ONNX and had to be implemented manually."
   ],
   "id": "18a63f046fc00792"
  },
  {
   "metadata": {
    "ExecuteTime": {
     "end_time": "2025-03-19T13:25:53.500791Z",
     "start_time": "2025-03-19T13:25:53.490539Z"
    }
   },
   "cell_type": "code",
   "source": [
    "import os\n",
    "import torch\n",
    "from pathlib import Path\n",
    "\n",
    "root_dir = Path.cwd().parent\n",
    "model_dir = root_dir / \"checkpoints\"\n",
    "\n",
    "\n",
    "def export_TMbed_to_onnx(tmbed_model, model_index=0, onnx_file_path=f'{root_dir}/checkpoints/tmbed_onnx'):\n",
    "    if not os.path.exists(onnx_file_path):\n",
    "        os.mkdir(onnx_file_path)\n",
    "    for index, single_tmbed_model in enumerate(tmbed_model.model):\n",
    "        single_tmbed_model.eval()\n",
    "\n",
    "        # Define the dummy input tensor `x` and mask tensor `mask`\n",
    "        B = 2  # batch size\n",
    "        N = 5  # sequence length\n",
    "        C = 1024  # number of input channels/features\n",
    "\n",
    "        x = torch.randn(B, N, C)\n",
    "        mask = torch.ones(B, N)  # Mask tensor with shape (B, N). All ones means no masking\n",
    "\n",
    "        specific_onnx_file_path = f'{onnx_file_path}/cv_{index}.onnx'\n",
    "        # Export the model\n",
    "        torch.onnx.export(\n",
    "            single_tmbed_model,                               # model being run\n",
    "            (x, mask),                           # model input (or a tuple for multiple inputs)\n",
    "            specific_onnx_file_path,             # where to save the model\n",
    "            export_params=True,                  # store the trained parameter weights inside the model file\n",
    "            opset_version=12,                    # the ONNX version to export the model to\n",
    "            do_constant_folding=True,            # whether to execute constant folding for optimization\n",
    "            input_names=['input', 'mask'],       # the model's input names\n",
    "            output_names=['output'],             # the model's output names\n",
    "            dynamic_axes={'input': {0: 'batch_size', 1: 'sequence_length', 2: 'embedding_dim'},\n",
    "                          'mask': {0: 'batch_size', 1: 'sequence_length'},# variable length axes\n",
    "                          'output': {0: 'batch_size'}}\n",
    "        )\n",
    "        print(f\"Model has been successfully exported to {specific_onnx_file_path}\")"
   ],
   "id": "373ec1c5951fcdfd",
   "outputs": [],
   "execution_count": 8
  },
  {
   "metadata": {
    "ExecuteTime": {
     "end_time": "2025-03-19T13:24:04.712434Z",
     "start_time": "2025-03-19T13:24:01.502505Z"
    }
   },
   "cell_type": "code",
   "source": [
    "from prott5_batch_predictor import TMbed\n",
    "\n",
    "tmbed = TMbed(model_dir=model_dir)\n",
    "export_TMbed_to_onnx(tmbed_model=tmbed)\n"
   ],
   "id": "25879f2e046a23f5",
   "outputs": [
    {
     "name": "stderr",
     "output_type": "stream",
     "text": [
      "Warning: Constant folding - Only steps=1 can be constant folded for opset >= 10 onnx::Slice op. Constant folding not applied.\n",
      "Warning: Constant folding - Only steps=1 can be constant folded for opset >= 10 onnx::Slice op. Constant folding not applied.\n",
      "Warning: Constant folding - Only steps=1 can be constant folded for opset >= 10 onnx::Slice op. Constant folding not applied.\n"
     ]
    },
    {
     "name": "stdout",
     "output_type": "stream",
     "text": [
      "Model has been successfully exported to /Users/pschloetermann/IdeaProjects/Biocentral_ohne_original/pgp/checkpoints/tmbed_onnx/cv_0.onnx\n"
     ]
    },
    {
     "name": "stderr",
     "output_type": "stream",
     "text": [
      "Warning: Constant folding - Only steps=1 can be constant folded for opset >= 10 onnx::Slice op. Constant folding not applied.\n",
      "Warning: Constant folding - Only steps=1 can be constant folded for opset >= 10 onnx::Slice op. Constant folding not applied.\n",
      "Warning: Constant folding - Only steps=1 can be constant folded for opset >= 10 onnx::Slice op. Constant folding not applied.\n"
     ]
    },
    {
     "name": "stdout",
     "output_type": "stream",
     "text": [
      "Model has been successfully exported to /Users/pschloetermann/IdeaProjects/Biocentral_ohne_original/pgp/checkpoints/tmbed_onnx/cv_1.onnx\n"
     ]
    },
    {
     "name": "stderr",
     "output_type": "stream",
     "text": [
      "Warning: Constant folding - Only steps=1 can be constant folded for opset >= 10 onnx::Slice op. Constant folding not applied.\n",
      "Warning: Constant folding - Only steps=1 can be constant folded for opset >= 10 onnx::Slice op. Constant folding not applied.\n",
      "Warning: Constant folding - Only steps=1 can be constant folded for opset >= 10 onnx::Slice op. Constant folding not applied.\n"
     ]
    },
    {
     "name": "stdout",
     "output_type": "stream",
     "text": [
      "Model has been successfully exported to /Users/pschloetermann/IdeaProjects/Biocentral_ohne_original/pgp/checkpoints/tmbed_onnx/cv_2.onnx\n"
     ]
    },
    {
     "name": "stderr",
     "output_type": "stream",
     "text": [
      "Warning: Constant folding - Only steps=1 can be constant folded for opset >= 10 onnx::Slice op. Constant folding not applied.\n",
      "Warning: Constant folding - Only steps=1 can be constant folded for opset >= 10 onnx::Slice op. Constant folding not applied.\n",
      "Warning: Constant folding - Only steps=1 can be constant folded for opset >= 10 onnx::Slice op. Constant folding not applied.\n"
     ]
    },
    {
     "name": "stdout",
     "output_type": "stream",
     "text": [
      "Model has been successfully exported to /Users/pschloetermann/IdeaProjects/Biocentral_ohne_original/pgp/checkpoints/tmbed_onnx/cv_3.onnx\n"
     ]
    },
    {
     "name": "stderr",
     "output_type": "stream",
     "text": [
      "Warning: Constant folding - Only steps=1 can be constant folded for opset >= 10 onnx::Slice op. Constant folding not applied.\n",
      "Warning: Constant folding - Only steps=1 can be constant folded for opset >= 10 onnx::Slice op. Constant folding not applied.\n"
     ]
    },
    {
     "name": "stdout",
     "output_type": "stream",
     "text": [
      "Model has been successfully exported to /Users/pschloetermann/IdeaProjects/Biocentral_ohne_original/pgp/checkpoints/tmbed_onnx/cv_4.onnx\n"
     ]
    },
    {
     "name": "stderr",
     "output_type": "stream",
     "text": [
      "Warning: Constant folding - Only steps=1 can be constant folded for opset >= 10 onnx::Slice op. Constant folding not applied.\n"
     ]
    }
   ],
   "execution_count": 6
  },
  {
   "metadata": {},
   "cell_type": "markdown",
   "source": [
    "# Test: TMbed onnx Model\n",
    "This is where we test whether the normally loaded model and the ONNX model produce the same results."
   ],
   "id": "43caa8501d17c6b5"
  },
  {
   "metadata": {
    "ExecuteTime": {
     "end_time": "2025-03-19T13:26:34.283590Z",
     "start_time": "2025-03-19T13:26:34.274913Z"
    }
   },
   "cell_type": "code",
   "source": [
    "output_dir_org = f'{root_dir}/output_tmbed_original'\n",
    "output_dir_onnx = f'{root_dir}/output_tmbed_onnx'\n",
    "with open (f'{output_dir_onnx}/ids.txt', 'r') as f:\n",
    "    ids_onnx = f.read()\n",
    "\n",
    "with open (f'{output_dir_onnx}/membrane_tmbed.txt', 'r') as f:\n",
    "    membrane_tmbed_onnx = f.read()\n",
    "\n",
    "with open (f'{output_dir_org}/ids.txt', 'r') as f:\n",
    "    ids_org = f.read()\n",
    "\n",
    "with open (f'{output_dir_org}/membrane_tmbed.txt', 'r') as f:\n",
    "    membrane_tmbed_org = f.read()\n",
    "\n",
    "if ids_onnx == ids_org:\n",
    "    print(\"IDs of nnx tmbed model and original tmbed model output are identical!\")\n",
    "else:\n",
    "    print(\"IDs of nnx tmbed model and original tmbed model output are NOT identical!\")\n",
    "if membrane_tmbed_onnx == membrane_tmbed_org:\n",
    "    print(\"Membrane output of onnx tmbed model and original tmbed model are identical!\")\n",
    "else:\n",
    "    print(\"Membrane output of onnx tmbed model and original tmbed model are NOT identical!\")"
   ],
   "id": "14e45d31a63aba8e",
   "outputs": [
    {
     "name": "stdout",
     "output_type": "stream",
     "text": [
      "IDs of nnx tmbed model and original tmbed model output are identical!\n",
      "Membrane output of onnx tmbed model and original tmbed model are identical!\n"
     ]
    }
   ],
   "execution_count": 11
  },
  {
   "metadata": {},
   "cell_type": "code",
   "outputs": [],
   "execution_count": null,
   "source": "",
   "id": "6ee698f0eff887a6"
  }
 ],
 "metadata": {
  "kernelspec": {
   "display_name": "Python 3",
   "language": "python",
   "name": "python3"
  },
  "language_info": {
   "codemirror_mode": {
    "name": "ipython",
    "version": 2
   },
   "file_extension": ".py",
   "mimetype": "text/x-python",
   "name": "python",
   "nbconvert_exporter": "python",
   "pygments_lexer": "ipython2",
   "version": "2.7.6"
  }
 },
 "nbformat": 4,
 "nbformat_minor": 5
}
